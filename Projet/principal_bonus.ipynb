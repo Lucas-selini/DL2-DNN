{
 "cells": [
  {
   "cell_type": "code",
   "execution_count": 1,
   "metadata": {},
   "outputs": [],
   "source": [
    "from utils.rbmv2 import RBM\n",
    "from utils.utils import *"
   ]
  },
  {
   "cell_type": "code",
   "execution_count": 2,
   "metadata": {},
   "outputs": [],
   "source": [
    "nums = [0, 1, 2, 3, 4, 5, 6, 7, 8, 9]\n",
    "X_train, _, _, _ = lire_MNIST(nums)\n"
   ]
  },
  {
   "cell_type": "code",
   "execution_count": null,
   "metadata": {},
   "outputs": [],
   "source": [
    "np.save('X_train_MNIST.npy', X_train)"
   ]
  },
  {
   "cell_type": "code",
   "execution_count": 3,
   "metadata": {},
   "outputs": [],
   "source": [
    "## random sample 10000 images\n",
    "np.random.seed(15)\n",
    "idx = np.random.choice(X_train.shape[0], 10000, replace=False)\n",
    "data = X_train[idx]"
   ]
  },
  {
   "cell_type": "code",
   "execution_count": 4,
   "metadata": {},
   "outputs": [
    {
     "name": "stdout",
     "output_type": "stream",
     "text": [
      "393284\n"
     ]
    }
   ],
   "source": [
    "RBM_medium = RBM(784, 500)\n",
    "print(RBM_medium.count_parameters())"
   ]
  },
  {
   "cell_type": "code",
   "execution_count": 5,
   "metadata": {},
   "outputs": [
    {
     "name": "stdout",
     "output_type": "stream",
     "text": [
      "Mean Square Error at iteration 0: 0.08292302796539264\n",
      "Mean Square Error at iteration 10: 0.042001156555983216\n",
      "Mean Square Error at iteration 20: 0.03270410862330018\n",
      "Mean Square Error at iteration 30: 0.02779052450726731\n",
      "Mean Square Error at iteration 40: 0.024662006001669637\n",
      "Mean Square Error at iteration 50: 0.02236657158016325\n",
      "Mean Square Error at iteration 60: 0.02065181374926983\n",
      "Mean Square Error at iteration 70: 0.01925095517055383\n",
      "Mean Square Error at iteration 80: 0.018086549845774687\n",
      "Mean Square Error at iteration 90: 0.01712643453170414\n",
      "Mean Square Error at iteration 100: 0.01626527437975915\n",
      "Mean Square Error at iteration 110: 0.01551261045618305\n",
      "Mean Square Error at iteration 120: 0.014865698624766539\n",
      "Mean Square Error at iteration 130: 0.014249064377187435\n",
      "Mean Square Error at iteration 140: 0.013686466250542626\n",
      "Mean Square Error at iteration 150: 0.013190874829250644\n",
      "Mean Square Error at iteration 160: 0.01272568110678771\n",
      "Mean Square Error at iteration 170: 0.012302587421322862\n",
      "Mean Square Error at iteration 180: 0.011935686837944373\n",
      "Mean Square Error at iteration 190: 0.011567820124281447\n",
      "Mean Square Error at iteration 200: 0.011224395257175446\n",
      "Mean Square Error at iteration 210: 0.010935954906143972\n",
      "Mean Square Error at iteration 220: 0.010620350521534951\n",
      "Mean Square Error at iteration 230: 0.010337366469670041\n",
      "Mean Square Error at iteration 240: 0.010095661613454474\n",
      "Mean Square Error at iteration 250: 0.009833221517027736\n",
      "Mean Square Error at iteration 260: 0.009592559282086926\n",
      "Mean Square Error at iteration 270: 0.009384461263194928\n",
      "Mean Square Error at iteration 280: 0.009165589675711835\n",
      "Mean Square Error at iteration 290: 0.008977471128613074\n",
      "Mean Square Error at iteration 300: 0.00878782144592322\n"
     ]
    }
   ],
   "source": [
    "learning_rate = 0.01\n",
    "batch_size = 64\n",
    "nb_iter = 500\n",
    "nb_gibbs_iteration = 200\n",
    "nb_image_generate = 15\n",
    "\n",
    "_ = RBM_medium.train(data, learning_rate, batch_size, nb_iter, verbose=True, plot=True)"
   ]
  }
 ],
 "metadata": {
  "kernelspec": {
   "display_name": "base",
   "language": "python",
   "name": "python3"
  },
  "language_info": {
   "codemirror_mode": {
    "name": "ipython",
    "version": 3
   },
   "file_extension": ".py",
   "mimetype": "text/x-python",
   "name": "python",
   "nbconvert_exporter": "python",
   "pygments_lexer": "ipython3",
   "version": "3.11.7"
  }
 },
 "nbformat": 4,
 "nbformat_minor": 2
}
